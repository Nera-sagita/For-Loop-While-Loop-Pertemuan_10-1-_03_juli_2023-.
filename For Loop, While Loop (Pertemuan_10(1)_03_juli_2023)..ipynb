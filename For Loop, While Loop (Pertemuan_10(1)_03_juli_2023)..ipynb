{
  "nbformat": 4,
  "nbformat_minor": 0,
  "metadata": {
    "colab": {
      "provenance": []
    },
    "kernelspec": {
      "name": "python3",
      "display_name": "Python 3"
    },
    "language_info": {
      "name": "python"
    }
  },
  "cells": [
    {
      "cell_type": "markdown",
      "source": [
        "#FOR LOOP\n",
        "Perulanagn for dilakukan untuk melakukan iterasi di dalam **Sequence** seperti ** List, tupple, string, dan array** atau opjek yang dapat diiterasi lainnya."
      ],
      "metadata": {
        "id": "JOT-dvpHVy3X"
      }
    },
    {
      "cell_type": "markdown",
      "source": [
        "**For Loop Syntax**"
      ],
      "metadata": {
        "id": "HtiklPQQWS0F"
      }
    },
    {
      "cell_type": "code",
      "source": [
        "for val in sequence:\n",
        "  loop body"
      ],
      "metadata": {
        "colab": {
          "base_uri": "https://localhost:8080/",
          "height": 130
        },
        "id": "RQQ_k5VVW74H",
        "outputId": "a86a687b-281a-40f6-baa6-f4289aeb043b"
      },
      "execution_count": null,
      "outputs": [
        {
          "output_type": "error",
          "ename": "SyntaxError",
          "evalue": "ignored",
          "traceback": [
            "\u001b[0;36m  File \u001b[0;32m\"<ipython-input-4-26c08211ba1d>\"\u001b[0;36m, line \u001b[0;32m2\u001b[0m\n\u001b[0;31m    loop body\u001b[0m\n\u001b[0m         ^\u001b[0m\n\u001b[0;31mSyntaxError\u001b[0m\u001b[0;31m:\u001b[0m invalid syntax\n"
          ]
        }
      ]
    },
    {
      "cell_type": "markdown",
      "source": [
        "**For Loop Flowchart**\n",
        "\n",
        "\n",
        "\n",
        "![Screenshot 2023-07-03 222723.png](data:image/png;base64,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)"
      ],
      "metadata": {
        "id": "yMfOkXGGWi44"
      }
    },
    {
      "cell_type": "code",
      "source": [
        "# Program untuk meghitung jumlah semua nagka dalam sebuah list\n",
        "L1 = [2,4,5,7,9]\n",
        "jumlah = 0\n",
        "\n",
        "# Iterasi di dalam list\n",
        "for i in L1:\n",
        "  jumlah = jumlah + i\n",
        "\n",
        "  print(jumlah)"
      ],
      "metadata": {
        "colab": {
          "base_uri": "https://localhost:8080/"
        },
        "id": "GpAH75gbWhyb",
        "outputId": "5dde2f8b-f8f2-4454-b1fd-f448a9711494"
      },
      "execution_count": null,
      "outputs": [
        {
          "output_type": "stream",
          "name": "stdout",
          "text": [
            "2\n",
            "6\n",
            "11\n",
            "18\n",
            "27\n"
          ]
        }
      ]
    },
    {
      "cell_type": "markdown",
      "source": [
        "**The Range() Function**"
      ],
      "metadata": {
        "id": "oJ4VSp2EYOhT"
      }
    },
    {
      "cell_type": "code",
      "source": [
        "# Program untuk melakukan iterasi di dalam list melalui indeks\n",
        "minuman = [\"teh\", \"boba\", \"kopi\", \"susu\"]\n",
        "p = len(minuman)\n",
        "\n",
        "# Iterasi di dalam list melalui indeks\n",
        "for i in range(p):\n",
        "  print(minuman[i])"
      ],
      "metadata": {
        "colab": {
          "base_uri": "https://localhost:8080/"
        },
        "id": "5IHCpFs3YHw8",
        "outputId": "e0a7340e-dcb8-4a26-c726-733d16b85c63"
      },
      "execution_count": null,
      "outputs": [
        {
          "output_type": "stream",
          "name": "stdout",
          "text": [
            "teh\n",
            "boba\n",
            "kopi\n",
            "susu\n"
          ]
        }
      ]
    },
    {
      "cell_type": "markdown",
      "source": [
        "**For Loop With Else**"
      ],
      "metadata": {
        "id": "7Mn7KZFKYt_Z"
      }
    },
    {
      "cell_type": "code",
      "source": [
        "# Contoh for loop menggunakan else\n",
        "for i in range(p):\n",
        "  print(minuman[i])\n",
        "else:\n",
        "  print(\"Elemen sudah habis\")"
      ],
      "metadata": {
        "colab": {
          "base_uri": "https://localhost:8080/"
        },
        "id": "ZMBhvFAHYq-v",
        "outputId": "0706ceba-3e8d-4122-c617-20cc6f499531"
      },
      "execution_count": null,
      "outputs": [
        {
          "output_type": "stream",
          "name": "stdout",
          "text": [
            "teh\n",
            "boba\n",
            "kopi\n",
            "susu\n",
            "Elemen sudah habis\n"
          ]
        }
      ]
    },
    {
      "cell_type": "markdown",
      "source": [
        "#Latihan 1\n",
        "\n",
        "Buatlah **List_tagihan.** kamu diminta untuk menghitung jumlah seluruh tagihan. Gunakan looping **for** untuk menyelesaikan tugas ini!\n",
        "Simpan hasilnya pada variabel **total_tagihan**"
      ],
      "metadata": {
        "id": "oq7EG0rCY89M"
      }
    },
    {
      "cell_type": "code",
      "source": [
        "list_tagihan = [50000, 75000, -150000, 125000, 30000, -50000, 20000]"
      ],
      "metadata": {
        "id": "owxs7lVO6sAx"
      },
      "execution_count": null,
      "outputs": []
    },
    {
      "cell_type": "code",
      "source": [
        "# Program untuk meghitung jumlah semua angka dalam sebuah list\n",
        "list_tagihan = [50000, 75000, -150000, 125000, 30000, -50000, 20000]\n",
        "jumlah = 0\n",
        "\n",
        "# Iterasi di dalam list\n",
        "for i in list_tagihan:\n",
        "  jumlah = jumlah + i\n",
        "\n",
        "  print(jumlah)"
      ],
      "metadata": {
        "colab": {
          "base_uri": "https://localhost:8080/"
        },
        "id": "IbO8J15w5rWv",
        "outputId": "d5c36322-22b1-41d3-ab5b-94dd4f26d44b"
      },
      "execution_count": 2,
      "outputs": [
        {
          "output_type": "stream",
          "name": "stdout",
          "text": [
            "50000\n",
            "125000\n",
            "-25000\n",
            "100000\n",
            "130000\n",
            "80000\n",
            "100000\n"
          ]
        }
      ]
    },
    {
      "cell_type": "code",
      "source": [
        "# Program untuk melakukan iterasi di dalam list melalui indeks\n",
        "list_tagihan = [50000, 75000, -150000, 125000, 30000, -50000, 20000]\n",
        "p = len(list_tagihan)\n",
        "\n",
        "# Iterasi di dalam list melalui indeks\n",
        "for i in range(p):\n",
        "  print(list_tagihan[i])"
      ],
      "metadata": {
        "colab": {
          "base_uri": "https://localhost:8080/"
        },
        "id": "Nqzsze0N6Y4Q",
        "outputId": "9ab67cab-1e2f-49d1-bc1c-4786a8c6b72a"
      },
      "execution_count": 3,
      "outputs": [
        {
          "output_type": "stream",
          "name": "stdout",
          "text": [
            "50000\n",
            "75000\n",
            "-150000\n",
            "125000\n",
            "30000\n",
            "-50000\n",
            "20000\n"
          ]
        }
      ]
    },
    {
      "cell_type": "code",
      "source": [
        "# Contoh for loop menggunakan else\n",
        "for i in range(p):\n",
        "  print(list_tagihan[i])\n",
        "else:\n",
        "  print(\"Elemen sudah habis\")"
      ],
      "metadata": {
        "colab": {
          "base_uri": "https://localhost:8080/"
        },
        "id": "T81uv4YD6mAr",
        "outputId": "aa2d6ac2-3b38-481d-c95f-e62a11765f9a"
      },
      "execution_count": 4,
      "outputs": [
        {
          "output_type": "stream",
          "name": "stdout",
          "text": [
            "50000\n",
            "75000\n",
            "-150000\n",
            "125000\n",
            "30000\n",
            "-50000\n",
            "20000\n",
            "Elemen sudah habis\n"
          ]
        }
      ]
    },
    {
      "cell_type": "markdown",
      "source": [
        "#While Loop\n",
        "\n",
        "While loop pada python digunakan melakukan iterasi pada blok kode selama nilai daro **test expression** adalah **true.**\n",
        "\n"
      ],
      "metadata": {
        "id": "4n6X3DviZlVJ"
      }
    },
    {
      "cell_type": "markdown",
      "source": [
        "**Syntax of while Loop in Python**"
      ],
      "metadata": {
        "id": "M7c3n3zYZ4ao"
      }
    },
    {
      "cell_type": "code",
      "source": [
        "while test_expression:\n",
        "  Body of while"
      ],
      "metadata": {
        "id": "5SbGwR6JaETO"
      },
      "execution_count": null,
      "outputs": []
    },
    {
      "cell_type": "markdown",
      "source": [
        "![Screenshot 2023-07-05 142421.png](data:image/png;base64,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)"
      ],
      "metadata": {
        "id": "1Kvg6uhC8Tro"
      }
    },
    {
      "cell_type": "markdown",
      "source": [
        "**Example : Pythone While Loop**"
      ],
      "metadata": {
        "id": "Eu5qZFXZ8b5H"
      }
    },
    {
      "cell_type": "code",
      "source": [
        "# Program untuk menjumlahkan semua\n",
        "# Bilangan asli hingga suku ke-n\n",
        "# Jumlah = 1+2+3+...+n\n",
        "\n",
        "n = 10\n",
        "jumlah = 0\n",
        "i = 1\n",
        "\n",
        "while i <= n:\n",
        "  jumlah = jumlah + i\n",
        "  i = i + 1\n",
        "\n",
        "print(jumlah)"
      ],
      "metadata": {
        "colab": {
          "base_uri": "https://localhost:8080/"
        },
        "id": "TK7tTSVo8aNr",
        "outputId": "b583ea58-18ec-4582-d647-fd0b3af47ecf"
      },
      "execution_count": 6,
      "outputs": [
        {
          "output_type": "stream",
          "name": "stdout",
          "text": [
            "55\n"
          ]
        }
      ]
    },
    {
      "cell_type": "markdown",
      "source": [
        "# While Loop With Else\n",
        "Sama dengan **for** loop kita dapat mengkombinasikan **while** loop dengan blok **else.**\n",
        "Bagian **else** akan dieksekusi jika nilai pada **test expression** pada **while loop** bernilai **False.**\n",
        "Perhatikan contoh berikut :"
      ],
      "metadata": {
        "id": "c8C8sdje9HzV"
      }
    },
    {
      "cell_type": "code",
      "source": [
        "jum = 0\n",
        "i = 1\n",
        "while i <= n:\n",
        "  jum = jum +i\n",
        "  i = i + 1\n",
        "else:\n",
        "  print(jum) # dieksekusi diluar looping"
      ],
      "metadata": {
        "id": "hwUwY1IQaLDs",
        "colab": {
          "base_uri": "https://localhost:8080/"
        },
        "outputId": "dbb453a0-2c40-461c-9da0-5f72ea9e4f88"
      },
      "execution_count": 7,
      "outputs": [
        {
          "output_type": "stream",
          "name": "stdout",
          "text": [
            "55\n"
          ]
        }
      ]
    },
    {
      "cell_type": "markdown",
      "source": [
        "#Latihan 2\n",
        "\n",
        "Diberikan list **tagihan** hituglah **total_tagihan** menggunakan **while loop.**"
      ],
      "metadata": {
        "id": "AeoN2A4r99Ew"
      }
    },
    {
      "cell_type": "code",
      "source": [
        "tagihan = [50000, 75000, 125000, 30000, 20000]"
      ],
      "metadata": {
        "id": "RN_XHbJp97ja"
      },
      "execution_count": 10,
      "outputs": []
    },
    {
      "cell_type": "code",
      "source": [
        "# Program untuk menjumlahkan semua\n",
        "# Bilangan asli hingga suku ke-n\n",
        "# Jumlah = 1+2+3+...+n\n",
        "\n",
        "tagihan = 5\n",
        "jumlah = 0\n",
        "i = 1\n",
        "\n",
        "while i <= tagihan:\n",
        "  jumlah = jumlah + i\n",
        "  i = i + 1\n",
        "\n",
        "print(jumlah)"
      ],
      "metadata": {
        "colab": {
          "base_uri": "https://localhost:8080/"
        },
        "id": "gNtmw9AB-T2B",
        "outputId": "7d05a822-9e0e-43ba-94ed-6bf625f9c27a"
      },
      "execution_count": 12,
      "outputs": [
        {
          "output_type": "stream",
          "name": "stdout",
          "text": [
            "15\n"
          ]
        }
      ]
    },
    {
      "cell_type": "code",
      "source": [
        "jum = 0\n",
        "i = 1\n",
        "while i <= tagihan:\n",
        "  jum = jum +i\n",
        "  i = i + 1\n",
        "else:\n",
        "  print(jum) # dieksekusi diluar looping"
      ],
      "metadata": {
        "colab": {
          "base_uri": "https://localhost:8080/"
        },
        "id": "yS35ghT5-gPr",
        "outputId": "2bec3c87-d30e-45eb-badf-8635171f0678"
      },
      "execution_count": 13,
      "outputs": [
        {
          "output_type": "stream",
          "name": "stdout",
          "text": [
            "15\n"
          ]
        }
      ]
    },
    {
      "cell_type": "code",
      "source": [],
      "metadata": {
        "id": "aqJqrW6p_GdA"
      },
      "execution_count": null,
      "outputs": []
    }
  ]
}